{
 "cells": [
  {
   "cell_type": "code",
   "execution_count": 1,
   "id": "39b87c94",
   "metadata": {},
   "outputs": [],
   "source": [
    "\n",
    "#Libraries imported for the huffman coding\n",
    "import cv2\n",
    "import math"
   ]
  },
  {
   "cell_type": "code",
   "execution_count": 2,
   "id": "0ba1c379",
   "metadata": {},
   "outputs": [],
   "source": [
    "#Image 1 - Reference Image\n",
    "Im1 = cv2.imread('ReferImage.png')\n",
    "\n",
    "#Image 2 - Distorted Image\n",
    "Im2 = cv2.imread('DistoredImage.png')"
   ]
  },
  {
   "cell_type": "code",
   "execution_count": 3,
   "id": "20f8c7d0",
   "metadata": {},
   "outputs": [],
   "source": [
    "import numpy as np\n",
    "\n",
    "# Entropy Calculation in Huffman coding\n",
    "\n",
    "def Entropy(Im):\n",
    "    histo = np.histogram(Im, bins=256)[0]\n",
    "    probabili = histo / np.sum(histo)\n",
    "    probabili = probabili[np.nonzero(probabili)]\n",
    "    Entropy = -np.sum(probabili * np.log2(probabili))\n",
    "    return Entropy"
   ]
  },
  {
   "cell_type": "code",
   "execution_count": 5,
   "id": "7fb49ca2",
   "metadata": {},
   "outputs": [],
   "source": [
    "# Created Function for Huffman Coding- lossless Compression\n",
    "from collections import Counter\n",
    "\n",
    "def huffman_coding(Im):\n",
    "    \n",
    "    # Freq Calculation of [pixels]\n",
    "    \n",
    "    freq = Counter(Im.flatten())    # Created counter for calculation of pixels\n",
    "    \n",
    "    # Code for the Huffman tree\n",
    "    \n",
    "    tree = [[weight, [symbol, \"\"]] for symbol, weight in freq.items()]\n",
    "    \n",
    "    while len(tree) > 1:\n",
    "        \n",
    "        tree.sort(key=lambda x: x[0])\n",
    "        RT = tree[1]\n",
    "        LT = tree[0]\n",
    "        for pair in RT[1:]:\n",
    "            pair[1] = '1' + pair[1]\n",
    "        for pair in LT[1:]:\n",
    "            pair[1] = '0' + pair[1]\n",
    "        tree = [[LT[0] + RT[0]] + LT[1:] + RT[1:]] + tree[2:]\n",
    "        \n",
    "     # Dict of Codes \n",
    "    codes = dict(sorted(tree[0][1:], key=lambda x: (len(x[-1]), x)))\n",
    "         \n",
    "        # Convertion to string to calculate the coded bit length\n",
    "    BinStr = \"\"\n",
    "    for pixel in Im.flatten():\n",
    "        BinStr += codes[pixel]\n",
    "        \n",
    "    return BinStr\n",
    "    "
   ]
  },
  {
   "cell_type": "code",
   "execution_count": 6,
   "id": "d3fa775b",
   "metadata": {},
   "outputs": [
    {
     "name": "stdout",
     "output_type": "stream",
     "text": [
      "UNCOMPRESSED IMAGE:\n",
      "Entropy : 7.89 \n",
      "Coded Bit Length: 18683469 \n",
      "\n",
      "DISTORTED IMAGE:\n",
      "Entropy : 7.68\n",
      "Coded Bit Length of : 18187099\n"
     ]
    }
   ],
   "source": [
    "# Huffman coding Image1\n",
    "BinStr1 = huffman_coding(Im1)\n",
    "\n",
    "# len of Coded Bits\n",
    "lengthOfBits1 = len(BinStr1)\n",
    "\n",
    "#Title\n",
    "print(\"UNCOMPRESSED IMAGE:\")\n",
    "\n",
    "#Entropy of Image 1\n",
    "Entropy_Im1 = Entropy(Im1)\n",
    "\n",
    "# Printing the Entropy of Image 1\n",
    "print(\"Entropy : %.2f \" % (Entropy_Im1))\n",
    "\n",
    "# Output of Coded Bit length\n",
    "\n",
    "print(\"Coded Bit Length: %d \\n\" % (lengthOfBits1))\n",
    "\n",
    "\n",
    "# Huffman coding Image2\n",
    "BinStr2 = huffman_coding(Im2)\n",
    "\n",
    "# len of Coded Bits\n",
    "lengthOfBits2 = len(BinStr2)\n",
    "\n",
    "#Title\n",
    "print(\"DISTORTED IMAGE:\")\n",
    "\n",
    "#Entropy of Image 2\n",
    "Ent_Im2 = Entropy(Im2)\n",
    "\n",
    "# Printing the Entropy of Image 2\n",
    "print(\"Entropy : %.2f\" % (Ent_Im2))\n",
    "\n",
    "# Output of Coded Bit length\n",
    "\n",
    "print(\"Coded Bit Length of : %d\" % (lengthOfBits2))\n"
   ]
  },
  {
   "cell_type": "code",
   "execution_count": null,
   "id": "057369e1",
   "metadata": {},
   "outputs": [],
   "source": []
  }
 ],
 "metadata": {
  "kernelspec": {
   "display_name": "Python 3 (ipykernel)",
   "language": "python",
   "name": "python3"
  },
  "language_info": {
   "codemirror_mode": {
    "name": "ipython",
    "version": 3
   },
   "file_extension": ".py",
   "mimetype": "text/x-python",
   "name": "python",
   "nbconvert_exporter": "python",
   "pygments_lexer": "ipython3",
   "version": "3.11.2"
  }
 },
 "nbformat": 4,
 "nbformat_minor": 5
}
