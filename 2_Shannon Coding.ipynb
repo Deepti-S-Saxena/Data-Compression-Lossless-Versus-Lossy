{
 "cells": [
  {
   "cell_type": "code",
   "execution_count": 7,
   "id": "2629a817",
   "metadata": {},
   "outputs": [],
   "source": [
    "\n",
    "#Libraries Imported needed for Shannon Coding\n",
    "import numpy as np     \n",
    "import cv2             #Cv2-python to open the image file\n",
    "import math            # Math funtions"
   ]
  },
  {
   "cell_type": "code",
   "execution_count": 8,
   "id": "a792521b",
   "metadata": {},
   "outputs": [
    {
     "name": "stdout",
     "output_type": "stream",
     "text": [
      "UnCompressed Image\n",
      "Entropy of ReferenceImage/UncompressedImage: 7.894773129230776\n",
      "Distorted Image\n",
      "Entropy of DistoredImage/ProcessedImage: 7.682354520811326\n"
     ]
    }
   ],
   "source": [
    "from collections import Counter\n",
    "#Image 1\n",
    "Im1 = cv2.imread('ReferImage.png')\n",
    "img11 = np.array(Im1)\n",
    "\n",
    "image_pixels = Counter(img11.ravel())   #count of pixels in image1\n",
    "probab = [count / sum(image_pixels.values()) for count in image_pixels.values()]\n",
    "\n",
    "#Image 1 Entropy\n",
    "entropy = sum([-p * math.log2(p) for p in probab])      \n",
    "\n",
    "print(\"UnCompressed Image\")\n",
    "print(\"Entropy of ReferenceImage/UncompressedImage:\", entropy)\n",
    "\n",
    "#Image2\n",
    "Im2 = cv2.imread('DistoredImage.png')\n",
    "img11 = np.array(Im2)\n",
    "\n",
    "image_pixels = Counter(img11.ravel())  #count of pixels in image2\n",
    "probab = [count / sum(image_pixels.values()) for count in image_pixels.values()]\n",
    "\n",
    "#Image 2 Entropy\n",
    "entropy = sum([-p * math.log2(p) for p in probab])\n",
    "\n",
    "print(\"Distorted Image\")\n",
    "print(\"Entropy of DistoredImage/ProcessedImage:\", entropy)"
   ]
  },
  {
   "cell_type": "code",
   "execution_count": 9,
   "id": "2b11ba2e",
   "metadata": {},
   "outputs": [],
   "source": [
    "\n",
    "#Calculation of probability on Reference Image 1\n",
    "\n",
    "probabi1 = np.zeros(256)\n",
    "for a in range(Im1.shape[0]):\n",
    "    for b in range(Im1.shape[1]):\n",
    "        probabi1[Im1[a][b]] = probabi1[Im1[a][b]] + 1\n",
    "probabi1 = probabi1 / (Im1.shape[0] * Im1.shape[1])\n",
    "probabi1_sor = np.sort(probabi1)[::-1]                  #sort the probaility\n",
    "\n",
    "\n",
    "\n",
    "#Calculation of probability on Distorted Image 2\n",
    "probabi2 = np.zeros(256)\n",
    "for a in range(Im2.shape[0]):\n",
    "    for b in range(Im2.shape[1]):\n",
    "        probabi2[Im2[a][b]] = probabi2[Im2[a][b]]+ 1\n",
    "probabi2 = probabi2 / (Im2.shape[0] * Im2.shape[1])\n",
    "probabi2_sor = np.sort(probabi2)[::-1]                 #sort the probaility\n",
    "\n",
    "#defined the function to calcuate the Shannon Coding\n",
    "\n",
    "def ShannonCoding(prob):\n",
    "    if len(prob) == 1:\n",
    "        return {'0': prob[0]}\n",
    "    sp = 1\n",
    "    diff = abs(sum(prob[:sp]) - sum(prob[sp:]))\n",
    "    while abs(sum(prob[:sp+1]) - sum(prob[sp+1:])) <= diff and sp < len(prob)-1:\n",
    "        sp += 1\n",
    "        diff = abs(sum(prob[:sp]) - sum(prob[sp:]))\n",
    "    code = {}\n",
    "    for key, value in ShannonCoding(prob[:sp]).items():\n",
    "        code['0' + key] = value\n",
    "    for key, value in ShannonCoding(prob[sp:]).items():\n",
    "        code['1' + key] = value\n",
    "    return code"
   ]
  },
  {
   "cell_type": "code",
   "execution_count": 14,
   "id": "f2d7c0d6",
   "metadata": {},
   "outputs": [],
   "source": [
    "# Calculation of Coded Bit length on Image 1 and Image 2\n",
    "\n",
    "code1 = ShannonCoding(probabi1_sor)\n",
    "len1 = 0\n",
    "for key, value in code1.items():\n",
    "    len1 = len1 + len(key) * probabi1_sor[np.where(list(code1.values())==value)[0][0]]\n",
    "\n",
    "\n",
    "code2 = ShannonCoding(probabi2_sor)\n",
    "len2 = 0\n",
    "for key, value in code2.items():\n",
    "    len2 = len2 + len(key) * probabi2_sor[np.where(list(code2.values())==value)[0][0]]"
   ]
  },
  {
   "cell_type": "code",
   "execution_count": 11,
   "id": "c7a2d7a9",
   "metadata": {},
   "outputs": [
    {
     "name": "stdout",
     "output_type": "stream",
     "text": [
      "UnCompressed Image\n",
      "Coded Bit Length : 26.61\n",
      "Distorted Image\n",
      "Coded Bit Length : 26.04\n"
     ]
    }
   ],
   "source": [
    "# Print length  of Coded Bit for Reference Image\n",
    "\n",
    "print(\"UnCompressed Image\")\n",
    "print(\"Coded Bit Length : %.2f\" % (len1))\n",
    "\n",
    "# Print length  of Coded Bit for Distorted Image\n",
    "\n",
    "print(\"Distorted Image\")\n",
    "print(\"Coded Bit Length : %.2f\" % (len2))"
   ]
  },
  {
   "cell_type": "code",
   "execution_count": null,
   "id": "84dd4ca7",
   "metadata": {},
   "outputs": [],
   "source": []
  }
 ],
 "metadata": {
  "kernelspec": {
   "display_name": "Python 3 (ipykernel)",
   "language": "python",
   "name": "python3"
  },
  "language_info": {
   "codemirror_mode": {
    "name": "ipython",
    "version": 3
   },
   "file_extension": ".py",
   "mimetype": "text/x-python",
   "name": "python",
   "nbconvert_exporter": "python",
   "pygments_lexer": "ipython3",
   "version": "3.11.2"
  }
 },
 "nbformat": 4,
 "nbformat_minor": 5
}
